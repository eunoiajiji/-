{
 "cells": [
  {
   "cell_type": "markdown",
   "id": "28bfbe7a-de81-4d5e-8c93-b6f05e89b91c",
   "metadata": {},
   "source": [
    "<font size=6><b>Lec01 : 금융관련 API 활용 </b></font>"
   ]
  },
  {
   "cell_type": "code",
   "execution_count": 94,
   "id": "1bc75938-1d9d-4c7f-8fb8-2be0a2706446",
   "metadata": {
    "tags": []
   },
   "outputs": [
    {
     "data": {
      "text/html": [
       "<style>.container{width:100% !important;}</style>"
      ],
      "text/plain": [
       "<IPython.core.display.HTML object>"
      ]
     },
     "metadata": {},
     "output_type": "display_data"
    }
   ],
   "source": [
    "import pandas as pd\n",
    "import numpy as np\n",
    "import matplotlib.pyplot as plt\n",
    "import seaborn as sns\n",
    "sns.set()\n",
    "import warnings\n",
    "warnings.filterwarnings(action='ignore')\n",
    "\n",
    "#-------------------- 차트 관련 속성 (한글처리, 그리드) -----------\n",
    "#plt.rc('font', family='NanumGothicOTF') # For MacOS\n",
    "plt.rcParams['font.family']= 'Malgun Gothic'\n",
    "plt.rcParams['axes.unicode_minus'] = False\n",
    "\n",
    "\n",
    "#-------------------- 주피터 , 출력결과 넓이 늘리기 ---------------\n",
    "from IPython.core.display import display, HTML\n",
    "display(HTML(\"<style>.container{width:100% !important;}</style>\"))\n",
    "pd.set_option('display.max_rows', 100)\n",
    "pd.set_option('display.max_columns', 100)\n",
    "pd.set_option('max_colwidth', None)\n"
   ]
  },
  {
   "cell_type": "markdown",
   "id": "453a794b-2ef4-4203-b74e-2dd97a304193",
   "metadata": {
    "tags": []
   },
   "source": [
    "# 증시 정보 관련 "
   ]
  },
  {
   "cell_type": "markdown",
   "id": "7374c086-0ca5-4617-b83a-05fa9f3d1d0a",
   "metadata": {},
   "source": [
    "<img src=\"https://avatars.githubusercontent.com/u/34187310?v=4\">"
   ]
  },
  {
   "cell_type": "markdown",
   "id": "1886da00-829b-4f01-8418-0c37f73af1b7",
   "metadata": {
    "tags": []
   },
   "source": [
    "## PyKRX\n",
    "* 웹 사이트 (Naver/KRX)에서 주가 정보 스크래핑\n",
    "* fnguide가 제공 -> naver 크롤링을 대신 해주는 기능 -> 네이버에 문제가 생기면 안됨\n",
    "* <font size = 4> pykrx의 주식만 볼 수있음(한국만)\n",
    "\n",
    "* <font size = 6>ref : https://github.com/sharebook-kr/pykrx\n",
    "\n",
    "----\n",
    "* <b>주식(stock)</b>과 관련된 api와 <b>채권(bond)</b> 관련 api가 나뉘어져있음\n",
    "    * STOCK : MarketData, 인덱스, 공매도\n",
    "    * ETX : ETF, ETN, ELW\n",
    "    * 채권\n",
    "    * 채권 수익률\n",
    "    * 기타"
   ]
  },
  {
   "cell_type": "code",
   "execution_count": 2,
   "id": "9bbb06fe-3573-48ad-b768-b39bc3fd416b",
   "metadata": {
    "tags": []
   },
   "outputs": [],
   "source": [
    "# ! pip install pykrx"
   ]
  },
  {
   "cell_type": "code",
   "execution_count": 2,
   "id": "d4ab41a9-7ecb-474c-b66b-7f3f63e5376e",
   "metadata": {
    "tags": []
   },
   "outputs": [],
   "source": [
    "from pykrx import stock # 주식\n",
    "from pykrx import bond  # 채권"
   ]
  },
  {
   "cell_type": "markdown",
   "id": "383b1ac6-ba64-4c53-9e9f-133defd301f5",
   "metadata": {},
   "source": [
    "* Stock 모듈 - MarketData API\n",
    "    - ticker : 기업명이나 종목코드를 의미\n",
    "    - 상장폐지된 것을 걸러주지 않음 -> 거래 가격이 0 이면 상장폐지"
   ]
  },
  {
   "cell_type": "code",
   "execution_count": 49,
   "id": "12770d4e-3c84-4f0b-be10-559287d38d4a",
   "metadata": {
    "tags": []
   },
   "outputs": [
    {
     "name": "stdout",
     "output_type": "stream",
     "text": [
      "['095570', '006840', '027410', '282330', '138930']\n"
     ]
    }
   ],
   "source": [
    "tickers = stock.get_market_ticker_list(\"202201\")   # 2021-01 해당 일자 코스피 상장된 ticker\n",
    "print(tickers[:5])"
   ]
  },
  {
   "cell_type": "markdown",
   "id": "8906b485-fd13-4a47-94da-6b7c6e344965",
   "metadata": {},
   "source": [
    "### 상장 기업의 수 (상장폐지 포함)"
   ]
  },
  {
   "cell_type": "code",
   "execution_count": 59,
   "id": "bc3da211-9f8d-42b5-8baf-f32968f78e34",
   "metadata": {
    "tags": []
   },
   "outputs": [
    {
     "data": {
      "text/plain": [
       "2690"
      ]
     },
     "execution_count": 59,
     "metadata": {},
     "output_type": "execute_result"
    }
   ],
   "source": [
    "tickers = stock.get_market_ticker_list(\"2023-01\", market=\"ALL\")\n",
    "len(tickers)"
   ]
  },
  {
   "cell_type": "code",
   "execution_count": 62,
   "id": "aa3c81e6-cc81-4bf8-8a51-c622f179f9e3",
   "metadata": {
    "tags": []
   },
   "outputs": [
    {
     "data": {
      "text/plain": [
       "943"
      ]
     },
     "execution_count": 62,
     "metadata": {},
     "output_type": "execute_result"
    }
   ],
   "source": [
    "tickers = stock.get_market_ticker_list(\"2023-01\", market=\"KOSPI\")  # 전체에 대략 30프로 차지\n",
    "len(tickers)"
   ]
  },
  {
   "cell_type": "code",
   "execution_count": 58,
   "id": "618d1392-86b6-48cd-9be4-a8e7a80d5b84",
   "metadata": {
    "tags": []
   },
   "outputs": [
    {
     "data": {
      "text/plain": [
       "1615"
      ]
     },
     "execution_count": 58,
     "metadata": {},
     "output_type": "execute_result"
    }
   ],
   "source": [
    "tickers = stock.get_market_ticker_list(\"2023-01\", market=\"KOSDAQ\")\n",
    "len(tickers)"
   ]
  },
  {
   "cell_type": "code",
   "execution_count": 61,
   "id": "d626bef9-7f1a-47be-b439-e14a3cba2337",
   "metadata": {
    "tags": []
   },
   "outputs": [
    {
     "data": {
      "text/plain": [
       "132"
      ]
     },
     "execution_count": 61,
     "metadata": {},
     "output_type": "execute_result"
    }
   ],
   "source": [
    "tickers = stock.get_market_ticker_list(\"2023-01\", market=\"KONEX\")\n",
    "len(tickers)"
   ]
  },
  {
   "cell_type": "markdown",
   "id": "71a9b6c7-5396-4a23-9375-98873efd62ea",
   "metadata": {},
   "source": [
    "### KONEX : 상장을 앞둔 비상장주"
   ]
  },
  {
   "cell_type": "code",
   "execution_count": 5,
   "id": "7877a239-8966-418f-ab17-0570c62d8da4",
   "metadata": {
    "tags": []
   },
   "outputs": [
    {
     "name": "stdout",
     "output_type": "stream",
     "text": [
      "['060310', '054620', '265520', '211270', '035760']\n"
     ]
    }
   ],
   "source": [
    "tickers = stock.get_market_ticker_list(\"20190225\", market=\"KOSDAQ\") # market : ALL, KOSPI, KOSDAQ, KONEX\n",
    "print(tickers[:5])"
   ]
  },
  {
   "cell_type": "code",
   "execution_count": 6,
   "id": "38acedb7-fa86-45cd-90af-0c120f415f10",
   "metadata": {
    "tags": []
   },
   "outputs": [
    {
     "name": "stdout",
     "output_type": "stream",
     "text": [
      "CJ ENM\n"
     ]
    }
   ],
   "source": [
    "종목명 = stock.get_market_ticker_name('035760')\n",
    "print(종목명)"
   ]
  },
  {
   "cell_type": "code",
   "execution_count": 7,
   "id": "39a0594c-863b-4f39-b379-79c63f3b0eac",
   "metadata": {
    "tags": []
   },
   "outputs": [
    {
     "name": "stdout",
     "output_type": "stream",
     "text": [
      "            시가  고가  저가     종가  거래량  거래대금  등락률\n",
      "날짜                                           \n",
      "2018-04-30   0   0   0  53000    0     0  0.0\n",
      "2018-05-02   0   0   0  53000    0     0  0.0\n",
      "2018-05-03   0   0   0  53000    0     0  0.0\n"
     ]
    }
   ],
   "source": [
    "df = stock.get_market_ohlcv(\"2018-04-28\", \"2018-05-10\", \"005930\")  \n",
    "print(df.head(3))"
   ]
  },
  {
   "cell_type": "markdown",
   "id": "e7e08b92-d279-4a86-96d1-06d2507e008d",
   "metadata": {},
   "source": [
    "- ohlcv : 시작가, 고가, 저가, 종가, 거래량  +  그외 , dataframe 으로 던져줌"
   ]
  },
  {
   "cell_type": "code",
   "execution_count": 66,
   "id": "0caee02b-0c2f-4d2f-8c2c-db03b768eac0",
   "metadata": {
    "tags": []
   },
   "outputs": [
    {
     "name": "stdout",
     "output_type": "stream",
     "text": [
      "        시가  고가  저가  종가  거래량  거래대금  등락률\n",
      "티커                                    \n",
      "095570   0   0   0   0    0     0  0.0\n",
      "068400   0   0   0   0    0     0  0.0\n",
      "006840   0   0   0   0    0     0  0.0\n"
     ]
    }
   ],
   "source": [
    "df = stock.get_market_ohlcv(\"2018\") \n",
    "# ---------------------------------------------------------------------------------------------\n",
    "# df = stock.get_market_ohlcv(\"2018\",\"2019\") --- XXXX기간을 정해놓은 경우 무조건 종목코드가 필요함\n",
    "# df = stock.get_market_price_change(\"20180301\", \"20180320\")  # ---price_change로는 종목 코드 없이 전체 가져오기 가능\n",
    "# ---------------------------------------------------------------------------------------------\n",
    "print(df.head(3))"
   ]
  },
  {
   "cell_type": "markdown",
   "id": "b6f6199d-2e5e-4ed9-b8fd-172101b391b3",
   "metadata": {},
   "source": [
    "### stock.get_market_price_change"
   ]
  },
  {
   "cell_type": "code",
   "execution_count": 70,
   "id": "0becb441-742f-4977-bab2-33918eb26ba6",
   "metadata": {
    "tags": []
   },
   "outputs": [
    {
     "data": {
      "text/html": [
       "<div>\n",
       "<style scoped>\n",
       "    .dataframe tbody tr th:only-of-type {\n",
       "        vertical-align: middle;\n",
       "    }\n",
       "\n",
       "    .dataframe tbody tr th {\n",
       "        vertical-align: top;\n",
       "    }\n",
       "\n",
       "    .dataframe thead th {\n",
       "        text-align: right;\n",
       "    }\n",
       "</style>\n",
       "<table border=\"1\" class=\"dataframe\">\n",
       "  <thead>\n",
       "    <tr style=\"text-align: right;\">\n",
       "      <th></th>\n",
       "      <th>종목명</th>\n",
       "      <th>시가</th>\n",
       "      <th>종가</th>\n",
       "      <th>변동폭</th>\n",
       "      <th>등락률</th>\n",
       "      <th>거래량</th>\n",
       "      <th>거래대금</th>\n",
       "    </tr>\n",
       "    <tr>\n",
       "      <th>티커</th>\n",
       "      <th></th>\n",
       "      <th></th>\n",
       "      <th></th>\n",
       "      <th></th>\n",
       "      <th></th>\n",
       "      <th></th>\n",
       "      <th></th>\n",
       "    </tr>\n",
       "  </thead>\n",
       "  <tbody>\n",
       "    <tr>\n",
       "      <th>095570</th>\n",
       "      <td>AJ네트웍스</td>\n",
       "      <td>7550</td>\n",
       "      <td>7130</td>\n",
       "      <td>-420</td>\n",
       "      <td>-5.56</td>\n",
       "      <td>384948</td>\n",
       "      <td>2844218890</td>\n",
       "    </tr>\n",
       "    <tr>\n",
       "      <th>068400</th>\n",
       "      <td>AJ렌터카</td>\n",
       "      <td>10900</td>\n",
       "      <td>12100</td>\n",
       "      <td>1200</td>\n",
       "      <td>11.01</td>\n",
       "      <td>3410074</td>\n",
       "      <td>40045884150</td>\n",
       "    </tr>\n",
       "  </tbody>\n",
       "</table>\n",
       "</div>"
      ],
      "text/plain": [
       "           종목명     시가     종가   변동폭    등락률      거래량         거래대금\n",
       "티커                                                             \n",
       "095570  AJ네트웍스   7550   7130  -420  -5.56   384948   2844218890\n",
       "068400   AJ렌터카  10900  12100  1200  11.01  3410074  40045884150"
      ]
     },
     "execution_count": 70,
     "metadata": {},
     "output_type": "execute_result"
    }
   ],
   "source": [
    "df = stock.get_market_price_change(\"20180301\", \"20180320\")\n",
    "df.head(2)"
   ]
  },
  {
   "cell_type": "markdown",
   "id": "836becd5-1ab8-4c90-990c-2db606668369",
   "metadata": {},
   "source": [
    "### stock.get_business_days(년,월)"
   ]
  },
  {
   "cell_type": "code",
   "execution_count": 8,
   "id": "533864a1-5b08-453a-8611-9d539f1cf196",
   "metadata": {
    "tags": []
   },
   "outputs": [
    {
     "data": {
      "text/plain": [
       "[Timestamp('2022-02-03 00:00:00'),\n",
       " Timestamp('2022-02-04 00:00:00'),\n",
       " Timestamp('2022-02-07 00:00:00')]"
      ]
     },
     "execution_count": 8,
     "metadata": {},
     "output_type": "execute_result"
    }
   ],
   "source": [
    "stock.get_business_days(2022, 2)[:3]"
   ]
  },
  {
   "cell_type": "markdown",
   "id": "a7f62a9b-891d-4deb-a6a3-ef83c874d819",
   "metadata": {},
   "source": [
    "* 해당 날짜 기준 종목 정보\n",
    "* 대상 : etf, elw, market, index"
   ]
  },
  {
   "cell_type": "code",
   "execution_count": 10,
   "id": "c26c05f8-61a0-40f7-8eb9-6bf694f42865",
   "metadata": {
    "tags": []
   },
   "outputs": [
    {
     "data": {
      "text/plain": [
       "['095570', '006840', '027410']"
      ]
     },
     "execution_count": 10,
     "metadata": {},
     "output_type": "execute_result"
    }
   ],
   "source": [
    "stock.get_market_ticker_list(date='202201', market='KOSPI')[:3]"
   ]
  },
  {
   "cell_type": "markdown",
   "id": "5eaf16c6-58a5-442c-891e-760a5df07003",
   "metadata": {},
   "source": [
    "### stock.get_market_fundamental('20230404')"
   ]
  },
  {
   "cell_type": "code",
   "execution_count": 68,
   "id": "a1a8eff5-e61e-4323-8f2b-8bb56183af5c",
   "metadata": {
    "tags": []
   },
   "outputs": [
    {
     "name": "stdout",
     "output_type": "stream",
     "text": [
      "          BPS  PER   PBR  EPS   DIV  DPS\n",
      "티커                                      \n",
      "095570   6089  0.0  1.12    0  3.09  210\n",
      "006840  50471  0.0  0.45    0  1.75  400\n"
     ]
    }
   ],
   "source": [
    "df = stock.get_market_fundamental(\"20220401\")\n",
    "print(df.head(2))"
   ]
  },
  {
   "cell_type": "markdown",
   "id": "b1d19c22-90e9-49da-a2f6-c834664097e4",
   "metadata": {},
   "source": [
    "* PyKRX : 네이버 주가정보 크롤링 정보 제공"
   ]
  },
  {
   "cell_type": "code",
   "execution_count": 12,
   "id": "9fa2324c-b0d7-49d7-828d-be1d8d4f5a70",
   "metadata": {
    "tags": []
   },
   "outputs": [
    {
     "name": "stdout",
     "output_type": "stream",
     "text": [
      "AJ네트웍스\n",
      "              시가    고가    저가    종가     거래량       거래대금   등락률\n",
      "날짜                                                         \n",
      "2018-12-10  4840  4840  4670  4750   32310  152157715 -2.06\n",
      "2018-12-11  4685  4750  4585  4585   37975  175311205 -3.47\n",
      "2018-12-12  4605  4605  4520  4540  102752  466242595 -0.98\n",
      "--------------------------------------------------------------------------------\n",
      "AK홀딩스\n",
      "               시가     고가     저가     종가    거래량        거래대금   등락률\n",
      "날짜                                                             \n",
      "2018-12-10  55400  56200  54900  55800  28618  1583487700  0.72\n",
      "2018-12-11  55800  56200  54900  55100  24302  1343526800 -1.25\n",
      "2018-12-12  55400  55900  54900  55900  13179   733026700  1.45\n",
      "--------------------------------------------------------------------------------\n",
      "BGF\n",
      "              시가    고가    저가    종가     거래량        거래대금   등락률\n",
      "날짜                                                          \n",
      "2018-12-10  7900  8000  7830  7900  103028   813870860 -1.25\n",
      "2018-12-11  7900  8010  7860  7900  122166   970701250  0.00\n",
      "2018-12-12  7900  8230  7900  8200  160608  1298009770  3.80\n",
      "--------------------------------------------------------------------------------\n"
     ]
    }
   ],
   "source": [
    "import time\n",
    "ticker_list = stock.get_market_ticker_list(date='202201', market='KOSPI')[:3]\n",
    "for ticker in ticker_list:\n",
    "    print(stock.get_market_ticker_name(ticker))\n",
    "    df = stock.get_market_ohlcv(\"20181210\", \"20181212\", ticker)\n",
    "    print(df.head())\n",
    "    print(\"----\" * 20)\n",
    "    time.sleep(1)      #------ 무작위 크롤링시 차단 주의 "
   ]
  },
  {
   "cell_type": "markdown",
   "id": "a6595e16-460a-4ddd-912e-b8966241b3a7",
   "metadata": {},
   "source": [
    "### get_index_.... : 코스피 지수에 해당하는 것들\n",
    "<pre>\n",
    "1001 코스피\n",
    "1028 코스피 200\n",
    "1034 코스피 100\n",
    "1035 코스피 50\n",
    "1167 코스피 200 중소형주\n",
    "1182 코스피 200 초대형제외 지수\n",
    "1244 코스피200제외 코스피지수\n",
    "1150 코스피 200 커뮤니케이션서비스\n",
    "1151 코스피 200 건설\n",
    "1152 코스피 200 중공업\n",
    "1153 코스피 200 철강/소재\n",
    "1154 코스피 200 에너지/화학\n",
    "1155 코스피 200 정보기술\n",
    "1156 코스피 200 금융\n",
    "1157 코스피 200 생활소비재\n",
    "1158 코스피 200 경기소비재\n",
    "1159 코스피 200 산업재\n",
    "1160 코스피 200 헬스케어\n",
    "1005 음식료품\n",
    "1006 섬유의복\n",
    "1007 종이목재\n",
    "1008 화학\n",
    "1009 의약품\n",
    "1010 비금속광물\n",
    "1011 철강금속\n",
    "1012 기계\n",
    "1013 전기전자\n",
    "1014 의료정밀\n",
    "1015 운수장비\n",
    "1016 유통업\n",
    "1017 전기가스업\n",
    "1018 건설업\n",
    "1019 운수창고업\n",
    "1020 통신업\n",
    "1021 금융업\n",
    "1022 은행\n",
    "1024 증권\n",
    "1025 보험\n",
    "1026 서비스업\n",
    "1027 제조업\n",
    "1002 코스피 대형주\n",
    "1003 코스피 중형주\n",
    "1004 코스피 소형주\n",
    "1224 코스피 200 비중상한 30%\n",
    "1227 코스피 200 비중상한 25%\n",
    "1232 코스피 200 비중상한 20%"
   ]
  },
  {
   "cell_type": "code",
   "execution_count": 11,
   "id": "bc8ad7d4-0f32-4b1e-b9bb-4988ef6867aa",
   "metadata": {
    "tags": []
   },
   "outputs": [
    {
     "data": {
      "text/plain": [
       "['1001', '1002', '1003']"
      ]
     },
     "execution_count": 11,
     "metadata": {},
     "output_type": "execute_result"
    }
   ],
   "source": [
    "stock.get_index_ticker_list(date='202201', market='KOSPI')[:3]"
   ]
  },
  {
   "cell_type": "markdown",
   "id": "bf7490b7-611d-47a4-9abc-db22c3f04cf6",
   "metadata": {},
   "source": [
    "- 나머지 기능은 get_market_과 비슷함"
   ]
  },
  {
   "cell_type": "markdown",
   "id": "0439656a-663d-4b29-86b7-6e979b1f21df",
   "metadata": {},
   "source": [
    "* 공매도 : krs에서 빌려서 주식을 매도 한 뒤 떨어지면 다시 구매해서 값음"
   ]
  },
  {
   "cell_type": "markdown",
   "id": "301bfc4d-82c0-4d8a-9d69-4adb8c7d0701",
   "metadata": {},
   "source": [
    "<img src=\"data:image/png;base64,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\" width=600>"
   ]
  },
  {
   "cell_type": "markdown",
   "id": "9ae00394-d3d0-478b-aaa8-e24beef8b2ac",
   "metadata": {
    "tags": []
   },
   "source": [
    "## FinanceDataReader\n",
    "* 수정 종가(Adjusted Price) : 총 발행 주식수의 변화를 반영한 가격\n",
    "* 백테스트, 수익률 분석 시 반드시!!! 수정주가 사용  -->  주가 연속성 보장\n",
    "* <font color=red><b>FinanceDataReader 모든 가격을 수정가격(Adjusted Price)로 제공</b></font><br><br>\n",
    "* ref : https://github.com/FinanceData/FinanceDataReader\n",
    "\n",
    "* Indexes: 'KS11'(코스피지수), 'KQ11'(코스닥지수), 'DJI'(다우존스지수), 'IXIC'(나스닥지수), 'US500'(S&P 500지수) "
   ]
  },
  {
   "cell_type": "code",
   "execution_count": 13,
   "id": "b23ac7cd-a733-422a-b6a1-1c445ce2875a",
   "metadata": {
    "tags": []
   },
   "outputs": [],
   "source": [
    "# ! pip install finance-datareader"
   ]
  },
  {
   "cell_type": "markdown",
   "id": "e5b59c73-4004-40bc-87aa-8f0b617a1b9b",
   "metadata": {},
   "source": [
    "* 2018년 5월 4일, 삼성전자는 50:1로 액면분할"
   ]
  },
  {
   "cell_type": "code",
   "execution_count": 71,
   "id": "97237da7-2453-4ba3-a152-02978ff8d203",
   "metadata": {
    "tags": []
   },
   "outputs": [],
   "source": [
    "import FinanceDataReader as fdr"
   ]
  },
  {
   "cell_type": "code",
   "execution_count": 72,
   "id": "957b71ab-5ec2-45af-9f0d-dafbf4d93d61",
   "metadata": {
    "tags": []
   },
   "outputs": [
    {
     "name": "stdout",
     "output_type": "stream",
     "text": [
      "삼성전자\n"
     ]
    },
    {
     "data": {
      "text/html": [
       "<div>\n",
       "<style scoped>\n",
       "    .dataframe tbody tr th:only-of-type {\n",
       "        vertical-align: middle;\n",
       "    }\n",
       "\n",
       "    .dataframe tbody tr th {\n",
       "        vertical-align: top;\n",
       "    }\n",
       "\n",
       "    .dataframe thead th {\n",
       "        text-align: right;\n",
       "    }\n",
       "</style>\n",
       "<table border=\"1\" class=\"dataframe\">\n",
       "  <thead>\n",
       "    <tr style=\"text-align: right;\">\n",
       "      <th></th>\n",
       "      <th>Open</th>\n",
       "      <th>High</th>\n",
       "      <th>Low</th>\n",
       "      <th>Close</th>\n",
       "      <th>Volume</th>\n",
       "      <th>Change</th>\n",
       "    </tr>\n",
       "    <tr>\n",
       "      <th>Date</th>\n",
       "      <th></th>\n",
       "      <th></th>\n",
       "      <th></th>\n",
       "      <th></th>\n",
       "      <th></th>\n",
       "      <th></th>\n",
       "    </tr>\n",
       "  </thead>\n",
       "  <tbody>\n",
       "    <tr>\n",
       "      <th>2018-04-30</th>\n",
       "      <td>0</td>\n",
       "      <td>0</td>\n",
       "      <td>0</td>\n",
       "      <td>53000</td>\n",
       "      <td>0</td>\n",
       "      <td>0.000000</td>\n",
       "    </tr>\n",
       "    <tr>\n",
       "      <th>2018-05-02</th>\n",
       "      <td>0</td>\n",
       "      <td>0</td>\n",
       "      <td>0</td>\n",
       "      <td>53000</td>\n",
       "      <td>0</td>\n",
       "      <td>0.000000</td>\n",
       "    </tr>\n",
       "    <tr>\n",
       "      <th>2018-05-03</th>\n",
       "      <td>0</td>\n",
       "      <td>0</td>\n",
       "      <td>0</td>\n",
       "      <td>53000</td>\n",
       "      <td>0</td>\n",
       "      <td>0.000000</td>\n",
       "    </tr>\n",
       "    <tr>\n",
       "      <th>2018-05-04</th>\n",
       "      <td>53000</td>\n",
       "      <td>53900</td>\n",
       "      <td>51800</td>\n",
       "      <td>51900</td>\n",
       "      <td>39565391</td>\n",
       "      <td>-0.020755</td>\n",
       "    </tr>\n",
       "    <tr>\n",
       "      <th>2018-05-08</th>\n",
       "      <td>52600</td>\n",
       "      <td>53200</td>\n",
       "      <td>51900</td>\n",
       "      <td>52600</td>\n",
       "      <td>23104720</td>\n",
       "      <td>0.013487</td>\n",
       "    </tr>\n",
       "    <tr>\n",
       "      <th>2018-05-09</th>\n",
       "      <td>52600</td>\n",
       "      <td>52800</td>\n",
       "      <td>50900</td>\n",
       "      <td>50900</td>\n",
       "      <td>16128305</td>\n",
       "      <td>-0.032319</td>\n",
       "    </tr>\n",
       "    <tr>\n",
       "      <th>2018-05-10</th>\n",
       "      <td>51700</td>\n",
       "      <td>51700</td>\n",
       "      <td>50600</td>\n",
       "      <td>51600</td>\n",
       "      <td>13905263</td>\n",
       "      <td>0.013752</td>\n",
       "    </tr>\n",
       "  </tbody>\n",
       "</table>\n",
       "</div>"
      ],
      "text/plain": [
       "             Open   High    Low  Close    Volume    Change\n",
       "Date                                                      \n",
       "2018-04-30      0      0      0  53000         0  0.000000\n",
       "2018-05-02      0      0      0  53000         0  0.000000\n",
       "2018-05-03      0      0      0  53000         0  0.000000\n",
       "2018-05-04  53000  53900  51800  51900  39565391 -0.020755\n",
       "2018-05-08  52600  53200  51900  52600  23104720  0.013487\n",
       "2018-05-09  52600  52800  50900  50900  16128305 -0.032319\n",
       "2018-05-10  51700  51700  50600  51600  13905263  0.013752"
      ]
     },
     "execution_count": 72,
     "metadata": {},
     "output_type": "execute_result"
    }
   ],
   "source": [
    "print(stock.get_market_ticker_name('005930'))\n",
    "df = fdr.DataReader('005930', '2018-04-28', '2018-05-10', exchange='KRX') # 거래소\n",
    "df.head(10)"
   ]
  },
  {
   "cell_type": "code",
   "execution_count": 73,
   "id": "72a85a65-7e8e-44e3-b274-34619843eda3",
   "metadata": {
    "tags": []
   },
   "outputs": [
    {
     "data": {
      "text/plain": [
       "<matplotlib.lines.Line2D at 0x25f545c9eb0>"
      ]
     },
     "execution_count": 73,
     "metadata": {},
     "output_type": "execute_result"
    },
    {
     "data": {
      "image/png": "[encoded data removed]",
      "text/plain": [
       "<Figure size 1500x500 with 1 Axes>"
      ]
     },
     "metadata": {},
     "output_type": "display_data"
    }
   ],
   "source": [
    "df = fdr.DataReader('005930', '2018-01-01', '2018-05-10')\n",
    "ax = df['Close'].plot(figsize=(15,5))\n",
    "ax.axvline('2018-05-04', ls='--', color='r')"
   ]
  },
  {
   "cell_type": "code",
   "execution_count": 1,
   "id": "26a82b13-d6a5-4435-a3ac-427c467e912b",
   "metadata": {
    "tags": []
   },
   "outputs": [],
   "source": [
    "#------------------------------------------------------------\n",
    "# FX 환율, 1995 ~ 현재\n",
    "#------------------------------------------------------------\n",
    "# usdkrw = fdr.DataReader('USD/KRW', '2022-01-01') # 달러 원화\n",
    "# usdeur = fdr.DataReader('USD/EUR', '1995-01-01') # 달러 유로화\n",
    "# usdcny = fdr.DataReader('USD/CNY', '1995-01-01') # 달러 위엔화\n",
    "\n",
    "\n",
    "#------------------------------------------------------------\n",
    "# 상품 선물 가격 데이터\n",
    "#------------------------------------------------------------\n",
    "# df = fdr.DataReader('NG') # NG 천연가스 선물 (NYMEX)\n",
    "# df = fdr.DataReader('ZG') # 금 선물 (ICE)\n",
    "# df = fdr.DataReader('ZI') # 은 선물 (ICE)\n",
    "# df = fdr.DataReader('HG') # 구리 선물 (COMEX)\n",
    "\n",
    "\n",
    "#------------------------------------------------------------\n",
    "# Bitcoin KRW price (Bithumbs), 2016 ~ Now\n",
    "#------------------------------------------------------------\n",
    "# btc = fdr.DataReader('BTC/KRW', '2016-01-01')\n",
    "\n",
    "#------------------------------------------------------------\n",
    "# 채권 수익률\n",
    "#------------------------------------------------------------\n",
    "# df = fdr.DataReader('KR1YT=RR') # 1년만기 한국국채 수익률\n",
    "# df = fdr.DataReader('KR10YT=RR') # 10년만기 한국국채 수익률\n",
    "# df = fdr.DataReader('US1MT=X') # 1개월 만기 미국국채 수익률\n",
    "# df = fdr.DataReader('US10YT=X') # 10년 만기 미국국채 수익률\n",
    "\n",
    "#------------------------------------------------------------\n",
    "# stock symbol list\n",
    "#------------------------------------------------------------\n",
    "# stock_df = fdr.StockListing('KRX')   # 코스피, 코스닥, 코넥스 전체\n",
    "# stock_df = fdr.StockListing('KOSPI') # 코스피\n",
    "# stock_df = fdr.StockListing('KOSDAQ') # 코스닥\n",
    "# stock_df = fdr.StockListing('KONEX') # 코넥스\n",
    "# stock_df = fdr.StockListing('NYSE')   # 뉴욕거래소\n",
    "# stock_df = fdr.StockListing('NASDAQ') # 나스닥\n",
    "# stock_df = fdr.StockListing('AMEX')   # 아멕스\n",
    "# stock_df = fdr.StockListing('S&P500')\n",
    "# stock_df = fdr.StockListing('SSE') # 상해 거래소\n",
    "# stock_df = fdr.StockListing('SZSE') # 신천 거래소\n",
    "# stock_df = fdr.StockListing('HKEX') # 홍콩거래소\n",
    "# stock_df = fdr.StockListing('TSE') # 도쿄 증권거래소\n",
    "# stock_df = fdr.StockListing('HOSE') # 호치민 증권거래소\n",
    "# stock_df = fdr.StockListing('KRX-ADMINISTRATIVE') # 관리종목 리스트\n",
    "# stock_df = fdr.StockListing('KRX-DELISTING')  # -----------상장폐지 종목 전체 리스트\n",
    "\n",
    "#------------------------------------------------------------\n",
    "# FRED 연준 데이터\n",
    "#------------------------------------------------------------ \n",
    "# m2 = fdr.DataReader('M2', data_source='fred')                        #M2통화량\n",
    "# nq = fdr.DataReader('NASDAQCOM', data_source='fred')                 # NASDAQCOM 나스닥종합지수\n",
    "# hou_nas = fdr.DataReader(['HSN1F', 'NASDAQCOM'], data_source='fred') # HSN1F 주택판매지수, NASDAQCOM 나스닥종합지수 \n"
   ]
  },
  {
   "cell_type": "markdown",
   "id": "a6f16ff5-a81e-4d69-8d1a-ecde6e3c424d",
   "metadata": {},
   "source": [
    "* 캔들차트 "
   ]
  },
  {
   "cell_type": "code",
   "execution_count": 2,
   "id": "a60f4e11-4ac8-4ea7-92ca-fd473574d384",
   "metadata": {
    "tags": []
   },
   "outputs": [],
   "source": [
    "# ! pip install --upgrade bokeh==2.4.3\n",
    "# df = fdr.DataReader('005930', '2022-01-01', '2022-02-15')\n",
    "\n",
    "# my_config = {'title':'fdr.chart.config()를 사용하여 설정을 한번에 지정할 수 있습니다', \n",
    "#           # 'width': 600, \n",
    "#           # 'height': 300,\n",
    "#           'volume': True,\n",
    "# }\n",
    "# fdr.chart.config(config=my_config)\n",
    "# fdr.chart.plot(df) #, title='삼성전자(005930)')"
   ]
  },
  {
   "cell_type": "markdown",
   "id": "7b59b551-6eff-4cb4-a771-6b3ce04805bc",
   "metadata": {},
   "source": [
    "<img src=\"data:image/png;base64,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\">"
   ]
  },
  {
   "cell_type": "markdown",
   "id": "0c0ffbb3-cb47-4e47-9864-89e9af1d3127",
   "metadata": {
    "tags": []
   },
   "source": [
    "## yahoo finance\n",
    "* ref : https://github.com/ranaroussi/yfinance/\n",
    "* ref : https://pypi.org/project/yfinance/"
   ]
  },
  {
   "cell_type": "code",
   "execution_count": 29,
   "id": "516d9368-62ed-403d-b202-aa148a7f6e6a",
   "metadata": {},
   "outputs": [],
   "source": [
    "# ! pip install yfinance\n",
    "# XXXXX #! pip install yahoo-finance  <구버전>"
   ]
  },
  {
   "cell_type": "code",
   "execution_count": 20,
   "id": "3a11aa0b-8f1a-41f6-add6-b4b167e4db58",
   "metadata": {
    "tags": []
   },
   "outputs": [],
   "source": [
    "import yfinance as yf"
   ]
  },
  {
   "cell_type": "code",
   "execution_count": 24,
   "id": "c3e4fa6e-41cf-4ca5-a8f6-631a9c1ccba0",
   "metadata": {
    "tags": []
   },
   "outputs": [
    {
     "data": {
      "text/html": [
       "<div>\n",
       "<style scoped>\n",
       "    .dataframe tbody tr th:only-of-type {\n",
       "        vertical-align: middle;\n",
       "    }\n",
       "\n",
       "    .dataframe tbody tr th {\n",
       "        vertical-align: top;\n",
       "    }\n",
       "\n",
       "    .dataframe thead th {\n",
       "        text-align: right;\n",
       "    }\n",
       "</style>\n",
       "<table border=\"1\" class=\"dataframe\">\n",
       "  <thead>\n",
       "    <tr style=\"text-align: right;\">\n",
       "      <th></th>\n",
       "      <th>Open</th>\n",
       "      <th>High</th>\n",
       "      <th>Low</th>\n",
       "      <th>Close</th>\n",
       "      <th>Volume</th>\n",
       "      <th>Dividends</th>\n",
       "      <th>Stock Splits</th>\n",
       "    </tr>\n",
       "    <tr>\n",
       "      <th>Date</th>\n",
       "      <th></th>\n",
       "      <th></th>\n",
       "      <th></th>\n",
       "      <th></th>\n",
       "      <th></th>\n",
       "      <th></th>\n",
       "      <th></th>\n",
       "    </tr>\n",
       "  </thead>\n",
       "  <tbody>\n",
       "    <tr>\n",
       "      <th>2023-04-25 00:00:00-04:00</th>\n",
       "      <td>165.190002</td>\n",
       "      <td>166.309998</td>\n",
       "      <td>163.729996</td>\n",
       "      <td>163.770004</td>\n",
       "      <td>48534900</td>\n",
       "      <td>0.0</td>\n",
       "      <td>0.0</td>\n",
       "    </tr>\n",
       "  </tbody>\n",
       "</table>\n",
       "</div>"
      ],
      "text/plain": [
       "                                 Open        High         Low       Close  \\\n",
       "Date                                                                        \n",
       "2023-04-25 00:00:00-04:00  165.190002  166.309998  163.729996  163.770004   \n",
       "\n",
       "                             Volume  Dividends  Stock Splits  \n",
       "Date                                                          \n",
       "2023-04-25 00:00:00-04:00  48534900        0.0           0.0  "
      ]
     },
     "execution_count": 24,
     "metadata": {},
     "output_type": "execute_result"
    }
   ],
   "source": [
    "msft = yf.Ticker(\"AAPL\")\n",
    "\n",
    "# get stock info\n",
    "# print(msft.info) # {'address1': 'One Apple Park Way', 'city': 'Cupertino', 'state': 'CA', 'zip': '95014',...\n",
    "\n",
    "# get historical market data\n",
    "hist = msft.history(period=\"min\") # 최근주가\n",
    "hist.head()"
   ]
  },
  {
   "cell_type": "markdown",
   "id": "c60b4d7a-5f72-4c5c-8e2b-2381512259f1",
   "metadata": {},
   "source": [
    "<img src=\"data:image/png;base64,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\">"
   ]
  },
  {
   "cell_type": "markdown",
   "id": "81ffee0b-eda6-41a3-81ec-1e8ce0f522ed",
   "metadata": {},
   "source": [
    "## pandas_datareader"
   ]
  },
  {
   "cell_type": "code",
   "execution_count": 25,
   "id": "12572d8c-7aaa-45f0-89a0-e74af3abedd8",
   "metadata": {
    "tags": []
   },
   "outputs": [],
   "source": [
    "# ! pip install pandas_datareader"
   ]
  },
  {
   "cell_type": "code",
   "execution_count": 26,
   "id": "dabc1b51-2f34-4c7b-a547-2f956270d02b",
   "metadata": {
    "tags": []
   },
   "outputs": [],
   "source": [
    "from pandas_datareader import data as pdr"
   ]
  },
  {
   "cell_type": "markdown",
   "id": "e8abd3d2-b567-4dfc-9624-9e1a2aaff03a",
   "metadata": {},
   "source": [
    "* 종목 코드 에러\n",
    "- 데이터를 받아오는 일에 문제가 생겨서 크롤링으로 데이터를 받아오면 가능\n",
    "- yfinance 와 pandas_datareader 를 붙여서 써야 함\n",
    "- ref : https://growing-sub.tistory.com/14"
   ]
  },
  {
   "cell_type": "code",
   "execution_count": 47,
   "id": "674ff79f-f63a-4eab-9304-4d6cde7bef5e",
   "metadata": {
    "tags": []
   },
   "outputs": [
    {
     "name": "stdout",
     "output_type": "stream",
     "text": [
      "[*********************100%***********************]  1 of 1 completed\n",
      "[*********************100%***********************]  1 of 1 completed\n"
     ]
    }
   ],
   "source": [
    "import pandas\n",
    "from pandas_datareader import data as pdr\n",
    "yf.pdr_override()  # yf을 이동해준다? #에러날때 사용\n",
    "\n",
    "df_ss = pdr.get_data_yahoo(\"005930.KS\", '2018-01-01', '2019-12-31')\n",
    "df_ms = pdr.get_data_yahoo('MSFT', '2018-01-01', '2019-12-31')"
   ]
  },
  {
   "cell_type": "code",
   "execution_count": 81,
   "id": "61b02b3e-b273-4589-acb9-e50a9053c8f7",
   "metadata": {
    "tags": []
   },
   "outputs": [
    {
     "name": "stdout",
     "output_type": "stream",
     "text": [
      "<class 'pandas.core.frame.DataFrame'>\n",
      "DatetimeIndex: 490 entries, 2018-01-02 to 2019-12-30\n",
      "Data columns (total 6 columns):\n",
      " #   Column     Non-Null Count  Dtype  \n",
      "---  ------     --------------  -----  \n",
      " 0   Open       490 non-null    float64\n",
      " 1   High       490 non-null    float64\n",
      " 2   Low        490 non-null    float64\n",
      " 3   Close      490 non-null    float64\n",
      " 4   Adj Close  490 non-null    float64\n",
      " 5   Volume     490 non-null    int64  \n",
      "dtypes: float64(5), int64(1)\n",
      "memory usage: 26.8 KB\n"
     ]
    },
    {
     "data": {
      "text/html": [
       "<div>\n",
       "<style scoped>\n",
       "    .dataframe tbody tr th:only-of-type {\n",
       "        vertical-align: middle;\n",
       "    }\n",
       "\n",
       "    .dataframe tbody tr th {\n",
       "        vertical-align: top;\n",
       "    }\n",
       "\n",
       "    .dataframe thead th {\n",
       "        text-align: right;\n",
       "    }\n",
       "</style>\n",
       "<table border=\"1\" class=\"dataframe\">\n",
       "  <thead>\n",
       "    <tr style=\"text-align: right;\">\n",
       "      <th></th>\n",
       "      <th>Open</th>\n",
       "      <th>High</th>\n",
       "      <th>Low</th>\n",
       "      <th>Close</th>\n",
       "      <th>Adj Close</th>\n",
       "      <th>Volume</th>\n",
       "    </tr>\n",
       "    <tr>\n",
       "      <th>Date</th>\n",
       "      <th></th>\n",
       "      <th></th>\n",
       "      <th></th>\n",
       "      <th></th>\n",
       "      <th></th>\n",
       "      <th></th>\n",
       "    </tr>\n",
       "  </thead>\n",
       "  <tbody>\n",
       "    <tr>\n",
       "      <th>2018-01-02</th>\n",
       "      <td>51380.0</td>\n",
       "      <td>51400.0</td>\n",
       "      <td>50780.0</td>\n",
       "      <td>51020.0</td>\n",
       "      <td>43994.203125</td>\n",
       "      <td>8474250</td>\n",
       "    </tr>\n",
       "    <tr>\n",
       "      <th>2018-01-03</th>\n",
       "      <td>52540.0</td>\n",
       "      <td>52560.0</td>\n",
       "      <td>51420.0</td>\n",
       "      <td>51620.0</td>\n",
       "      <td>44511.582031</td>\n",
       "      <td>10013500</td>\n",
       "    </tr>\n",
       "    <tr>\n",
       "      <th>2018-01-04</th>\n",
       "      <td>52120.0</td>\n",
       "      <td>52180.0</td>\n",
       "      <td>50640.0</td>\n",
       "      <td>51080.0</td>\n",
       "      <td>44045.941406</td>\n",
       "      <td>11695450</td>\n",
       "    </tr>\n",
       "    <tr>\n",
       "      <th>2018-01-05</th>\n",
       "      <td>51300.0</td>\n",
       "      <td>52120.0</td>\n",
       "      <td>51200.0</td>\n",
       "      <td>52120.0</td>\n",
       "      <td>44942.714844</td>\n",
       "      <td>9481150</td>\n",
       "    </tr>\n",
       "    <tr>\n",
       "      <th>2018-01-08</th>\n",
       "      <td>52400.0</td>\n",
       "      <td>52520.0</td>\n",
       "      <td>51500.0</td>\n",
       "      <td>52020.0</td>\n",
       "      <td>44856.492188</td>\n",
       "      <td>8383650</td>\n",
       "    </tr>\n",
       "  </tbody>\n",
       "</table>\n",
       "</div>"
      ],
      "text/plain": [
       "               Open     High      Low    Close     Adj Close    Volume\n",
       "Date                                                                  \n",
       "2018-01-02  51380.0  51400.0  50780.0  51020.0  43994.203125   8474250\n",
       "2018-01-03  52540.0  52560.0  51420.0  51620.0  44511.582031  10013500\n",
       "2018-01-04  52120.0  52180.0  50640.0  51080.0  44045.941406  11695450\n",
       "2018-01-05  51300.0  52120.0  51200.0  52120.0  44942.714844   9481150\n",
       "2018-01-08  52400.0  52520.0  51500.0  52020.0  44856.492188   8383650"
      ]
     },
     "execution_count": 81,
     "metadata": {},
     "output_type": "execute_result"
    }
   ],
   "source": [
    "df_ss.info()\n",
    "df_ss.head()"
   ]
  },
  {
   "cell_type": "markdown",
   "id": "e58a4214-84a5-4b7e-b3d3-48d6030a9ea2",
   "metadata": {},
   "source": [
    "# 기술적 지표 관련 "
   ]
  },
  {
   "cell_type": "markdown",
   "id": "970fa979-4a53-436d-925a-351d84efc776",
   "metadata": {},
   "source": [
    "<img src=\"data:image/jpeg;base64,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\">"
   ]
  },
  {
   "cell_type": "markdown",
   "id": "3cc3cfa0-6283-4f8b-bb51-b7aa0d3d5683",
   "metadata": {},
   "source": [
    "## TA-LIB"
   ]
  },
  {
   "cell_type": "markdown",
   "id": "e6936d97-e35b-4b21-9245-5b9d6db63a27",
   "metadata": {
    "jp-MarkdownHeadingCollapsed": true,
    "tags": []
   },
   "source": [
    "TA-LIB download ( TA_Lib‑0.4.24‑cp38‑cp38‑win_amd64.whl )\n",
    "* ref : https://www.lfd.uci.edu/~gohlke/pythonlibs/#ta-lib\n",
    "* ref : https://github.com/mrjbq7/ta-lib"
   ]
  },
  {
   "cell_type": "code",
   "execution_count": null,
   "id": "07da96c7-b076-4a9d-bca4-47b03954e7f8",
   "metadata": {},
   "outputs": [],
   "source": [
    "# ! pip install TA_Lib-0.4.24-cp38-cp38-win_amd64.whl"
   ]
  },
  {
   "cell_type": "markdown",
   "id": "641275fb-f320-49ad-bb83-eeac68f58ffc",
   "metadata": {},
   "source": [
    "### RSI(상대 강도 지수): RSI가 클수록 상승추세가 큼, 작을수록 하락추세가 작음"
   ]
  },
  {
   "cell_type": "code",
   "execution_count": 31,
   "id": "6ff73776-d11f-463c-adef-5b9670da55ab",
   "metadata": {
    "tags": []
   },
   "outputs": [
    {
     "name": "stdout",
     "output_type": "stream",
     "text": [
      "(array([         nan,          nan,          nan,          nan,\n",
      "                nan,          nan,          nan,          nan,\n",
      "                nan,          nan,          nan,          nan,\n",
      "                nan,          nan,          nan,          nan,\n",
      "                nan,          nan,          nan,          nan,\n",
      "        10.55179224, 100.        ,  14.71150342,  26.61945068,\n",
      "        42.91237834,  73.51677581,  79.06067541,   6.74900761,\n",
      "        57.83501757, 100.        ,  21.37402437,  20.22692843,\n",
      "        60.69610174,   8.66833005,   0.        ,  60.51064945,\n",
      "        20.10065062, 100.        , 100.        ,  91.92406692,\n",
      "        46.40817662,  14.30204828,   0.        ,   0.        ,\n",
      "       100.        ,  49.7735379 ,  23.09629905,   5.95103825,\n",
      "        21.88755999,  43.2313096 , 100.        ,  55.55164619,\n",
      "        66.14409252,  52.29497518,   0.        ,   0.        ,\n",
      "       100.        ,  19.07223327,  60.29822771,   0.        ,\n",
      "        74.8736303 ,  60.63679862,  72.45984416,  68.98876083,\n",
      "       100.        ,  63.24682061,   0.        ,  36.99804845,\n",
      "        23.19207936,   0.        ,   0.        , 100.        ,\n",
      "        26.54618136,  49.87073096,  85.23562427,  99.06678619,\n",
      "         0.        ,  58.94839542,  10.87690482,  72.52922148,\n",
      "         0.        ,  49.7312291 , 100.        , 100.        ,\n",
      "        31.49978754,  44.18102761,  16.08564931,  18.63672881,\n",
      "         0.        ,  69.48637446, 100.        ,  86.11112755,\n",
      "        75.59924872, 100.        ,   0.        ,  38.80182537,\n",
      "       100.        ,   0.        ,  20.07549824,   0.        ]), array([        nan,         nan,         nan,         nan,         nan,\n",
      "               nan,         nan,         nan,         nan,         nan,\n",
      "               nan,         nan,         nan,         nan,         nan,\n",
      "               nan,         nan,         nan,         nan,         nan,\n",
      "       70.18393075, 70.18393075, 41.75443189, 47.11031803, 28.08111081,\n",
      "       47.68286828, 65.16327652, 53.10881961, 47.88156686, 54.86134173,\n",
      "       59.73634731, 47.2003176 , 34.09901818, 29.86378674, 23.12147726,\n",
      "       23.05965983, 26.87043336, 60.20376669, 73.36688354, 97.30802231,\n",
      "       79.44408118, 50.87809728, 20.23674164,  4.76734943, 33.33333333,\n",
      "       49.92451263, 57.62327899, 26.27362507, 16.9782991 , 23.68996928,\n",
      "       55.0396232 , 66.26098526, 73.89857957, 57.99690463, 39.47968923,\n",
      "       17.43165839, 33.33333333, 39.69074442, 59.79015366, 26.45682033,\n",
      "       45.057286  , 45.17014297, 69.32342436, 67.3618012 , 80.48286833,\n",
      "       77.41186048, 54.41560687, 33.41495635, 20.06337594, 20.06337594,\n",
      "        7.73069312, 33.33333333, 42.18206045, 58.80563744, 53.88417887,\n",
      "       78.05771381, 61.43413682, 52.6717272 , 23.27510008, 47.45150724,\n",
      "       27.8020421 , 40.75348353, 49.9104097 , 83.24374303, 77.16659585,\n",
      "       58.56027172, 30.58882149, 26.30113524, 11.57412604, 29.37436776,\n",
      "       56.49545815, 85.19916734, 87.23679209, 87.23679209, 58.53308291,\n",
      "       46.26727512, 46.26727512, 46.26727512, 40.02516608,  6.69183275]))\n",
      "(array([         nan,          nan,          nan,          nan,\n",
      "                nan,          nan,          nan,          nan,\n",
      "                nan,          nan,          nan,          nan,\n",
      "                nan,          nan,          nan,          nan,\n",
      "                nan,          nan,          nan,          nan,\n",
      "        10.55179224, 100.        ,  14.71150342,  26.61945068,\n",
      "        42.91237834,  73.51677581,  79.06067541,   6.74900761,\n",
      "        57.83501757, 100.        ,  21.37402437,  20.22692843,\n",
      "        60.69610174,   8.66833005,   0.        ,  60.51064945,\n",
      "        20.10065062, 100.        , 100.        ,  91.92406692,\n",
      "        46.40817662,  14.30204828,   0.        ,   0.        ,\n",
      "       100.        ,  49.7735379 ,  23.09629905,   5.95103825,\n",
      "        21.88755999,  43.2313096 , 100.        ,  55.55164619,\n",
      "        66.14409252,  52.29497518,   0.        ,   0.        ,\n",
      "       100.        ,  19.07223327,  60.29822771,   0.        ,\n",
      "        74.8736303 ,  60.63679862,  72.45984416,  68.98876083,\n",
      "       100.        ,  63.24682061,   0.        ,  36.99804845,\n",
      "        23.19207936,   0.        ,   0.        , 100.        ,\n",
      "        26.54618136,  49.87073096,  85.23562427,  99.06678619,\n",
      "         0.        ,  58.94839542,  10.87690482,  72.52922148,\n",
      "         0.        ,  49.7312291 , 100.        , 100.        ,\n",
      "        31.49978754,  44.18102761,  16.08564931,  18.63672881,\n",
      "         0.        ,  69.48637446, 100.        ,  86.11112755,\n",
      "        75.59924872, 100.        ,   0.        ,  38.80182537,\n",
      "       100.        ,   0.        ,  20.07549824,   0.        ]), array([        nan,         nan,         nan,         nan,         nan,\n",
      "               nan,         nan,         nan,         nan,         nan,\n",
      "               nan,         nan,         nan,         nan,         nan,\n",
      "               nan,         nan,         nan,         nan,         nan,\n",
      "       70.18393075, 70.18393075, 41.75443189, 47.11031803, 28.08111081,\n",
      "       47.68286828, 65.16327652, 53.10881961, 47.88156686, 54.86134173,\n",
      "       59.73634731, 47.2003176 , 34.09901818, 29.86378674, 23.12147726,\n",
      "       23.05965983, 26.87043336, 60.20376669, 73.36688354, 97.30802231,\n",
      "       79.44408118, 50.87809728, 20.23674164,  4.76734943, 33.33333333,\n",
      "       49.92451263, 57.62327899, 26.27362507, 16.9782991 , 23.68996928,\n",
      "       55.0396232 , 66.26098526, 73.89857957, 57.99690463, 39.47968923,\n",
      "       17.43165839, 33.33333333, 39.69074442, 59.79015366, 26.45682033,\n",
      "       45.057286  , 45.17014297, 69.32342436, 67.3618012 , 80.48286833,\n",
      "       77.41186048, 54.41560687, 33.41495635, 20.06337594, 20.06337594,\n",
      "        7.73069312, 33.33333333, 42.18206045, 58.80563744, 53.88417887,\n",
      "       78.05771381, 61.43413682, 52.6717272 , 23.27510008, 47.45150724,\n",
      "       27.8020421 , 40.75348353, 49.9104097 , 83.24374303, 77.16659585,\n",
      "       58.56027172, 30.58882149, 26.30113524, 11.57412604, 29.37436776,\n",
      "       56.49545815, 85.19916734, 87.23679209, 87.23679209, 58.53308291,\n",
      "       46.26727512, 46.26727512, 46.26727512, 40.02516608,  6.69183275]))\n",
      "[        nan         nan         nan         nan         nan         nan\n",
      "         nan         nan         nan         nan         nan         nan\n",
      "         nan         nan 43.21091506 47.38963691 42.77712339 40.79766515\n",
      " 50.0101941  51.04019617 41.87843575 53.81578176 43.63459881 45.05609168\n",
      " 47.00103483 51.11947625 49.55219347 45.46530997 48.73539803 54.74340382\n",
      " 47.44841201 47.34198337 51.83435705 47.98356292 43.71230918 48.6270131\n",
      " 45.34489365 49.40197732 50.26105056 49.86402501 47.62639243 48.00320251\n",
      " 45.71477905 44.98975022 57.65605984 51.29422064 47.91519897 45.74352715\n",
      " 48.35088989 48.14316464 51.12230469 48.73152662 50.11368979 49.70110519\n",
      " 48.67985276 45.57602708 55.49447778 47.46769713 51.55667707 45.29149358\n",
      " 52.93083825 49.92374763 50.82695083 50.56178281 54.82708485 53.02495252\n",
      " 47.55095631 50.24298188 49.23844182 47.4762266  44.49164377 54.31403205\n",
      " 47.09911277 49.3901406  52.86381774 54.24670143 46.79053857 51.18582693\n",
      " 47.6015383  52.19843544 46.71647881 49.44272322 52.39943471 53.56848807\n",
      " 48.87484717 50.94854595 49.62984979 49.7495883  47.82854205 49.99651964\n",
      " 50.64348983 50.25252532 49.95662142 52.43537438 49.18437743 50.44582359\n",
      " 55.04509231 49.1603934  50.34177603 47.92592481]\n"
     ]
    }
   ],
   "source": [
    "import talib\n",
    "import numpy\n",
    "c = numpy.random.randn(100)\n",
    "\n",
    "print(talib.STOCHRSI(c))\n",
    "\n",
    "rsi = talib.RSI(c)\n",
    "print(talib.STOCHF(rsi, rsi, rsi))\n",
    "print(talib.RSI(c))\n"
   ]
  },
  {
   "cell_type": "markdown",
   "id": "1161ffd6-a1b3-4bc4-a289-a9f7a52af580",
   "metadata": {
    "tags": []
   },
   "source": [
    "# 증시 달력 관련\n",
    "* https://open.krx.co.kr/contents/MKD/01/0110/01100305/MKD01100305.jsp\n",
    "* https://github.com/rsheftel/pandas_market_calendars\n",
    "* https://github.com/quantopian/trading_calendars\n",
    "* https://github.com/gerrymanoim/exchange_calendars"
   ]
  },
  {
   "cell_type": "markdown",
   "id": "42ea1bd9-e809-4272-b8bd-0631c1afba76",
   "metadata": {},
   "source": [
    "## pykrx"
   ]
  },
  {
   "cell_type": "code",
   "execution_count": 33,
   "id": "405a4837-4610-4130-b016-8499060936f5",
   "metadata": {
    "tags": []
   },
   "outputs": [
    {
     "data": {
      "text/plain": [
       "[Timestamp('2022-02-03 00:00:00'),\n",
       " Timestamp('2022-02-04 00:00:00'),\n",
       " Timestamp('2022-02-07 00:00:00'),\n",
       " Timestamp('2022-02-08 00:00:00'),\n",
       " Timestamp('2022-02-09 00:00:00'),\n",
       " Timestamp('2022-02-10 00:00:00'),\n",
       " Timestamp('2022-02-11 00:00:00'),\n",
       " Timestamp('2022-02-14 00:00:00'),\n",
       " Timestamp('2022-02-15 00:00:00'),\n",
       " Timestamp('2022-02-16 00:00:00'),\n",
       " Timestamp('2022-02-17 00:00:00'),\n",
       " Timestamp('2022-02-18 00:00:00'),\n",
       " Timestamp('2022-02-21 00:00:00'),\n",
       " Timestamp('2022-02-22 00:00:00'),\n",
       " Timestamp('2022-02-23 00:00:00'),\n",
       " Timestamp('2022-02-24 00:00:00'),\n",
       " Timestamp('2022-02-25 00:00:00'),\n",
       " Timestamp('2022-02-28 00:00:00')]"
      ]
     },
     "execution_count": 33,
     "metadata": {},
     "output_type": "execute_result"
    }
   ],
   "source": [
    "from pykrx import stock\n",
    "stock.get_business_days(2022, 2) # 2월의 비지니스데이"
   ]
  },
  {
   "cell_type": "markdown",
   "id": "783dbeea-0fe5-466a-85fd-d48d691cebe3",
   "metadata": {},
   "source": [
    "## pandas_market_calendars\n",
    "* https://github.com/rsheftel/pandas_market_calendars/blob/master/docs/usage.rst"
   ]
  },
  {
   "cell_type": "code",
   "execution_count": 82,
   "id": "76541887-f63f-4e2f-8e8c-1ca893f734e1",
   "metadata": {
    "tags": []
   },
   "outputs": [
    {
     "name": "stdout",
     "output_type": "stream",
     "text": [
      "Collecting pandas_market_calendars\n",
      "  Downloading pandas_market_calendars-4.1.4-py3-none-any.whl (98 kB)\n",
      "     ---------------------------------------- 0.0/98.9 kB ? eta -:--:--\n",
      "     ---------------------------------------- 98.9/98.9 kB 5.9 MB/s eta 0:00:00\n",
      "Requirement already satisfied: python-dateutil in c:\\ai\\pythonproject\\venv\\lib\\site-packages (from pandas_market_calendars) (2.8.2)\n",
      "Requirement already satisfied: pandas>=1.1 in c:\\ai\\pythonproject\\venv\\lib\\site-packages (from pandas_market_calendars) (1.5.3)\n",
      "Requirement already satisfied: exchange-calendars>=3.3 in c:\\ai\\pythonproject\\venv\\lib\\site-packages (from pandas_market_calendars) (4.2.6)\n",
      "Requirement already satisfied: pytz in c:\\ai\\pythonproject\\venv\\lib\\site-packages (from pandas_market_calendars) (2022.7.1)\n",
      "Requirement already satisfied: korean-lunar-calendar in c:\\ai\\pythonproject\\venv\\lib\\site-packages (from exchange-calendars>=3.3->pandas_market_calendars) (0.3.1)\n",
      "Requirement already satisfied: toolz in c:\\ai\\pythonproject\\venv\\lib\\site-packages (from exchange-calendars>=3.3->pandas_market_calendars) (0.12.0)\n",
      "Requirement already satisfied: pyluach in c:\\ai\\pythonproject\\venv\\lib\\site-packages (from exchange-calendars>=3.3->pandas_market_calendars) (2.2.0)\n",
      "Requirement already satisfied: numpy in c:\\ai\\pythonproject\\venv\\lib\\site-packages (from exchange-calendars>=3.3->pandas_market_calendars) (1.24.3)\n",
      "Requirement already satisfied: six>=1.5 in c:\\ai\\pythonproject\\venv\\lib\\site-packages (from python-dateutil->pandas_market_calendars) (1.16.0)\n",
      "Installing collected packages: pandas_market_calendars\n",
      "Successfully installed pandas_market_calendars-4.1.4\n"
     ]
    },
    {
     "name": "stderr",
     "output_type": "stream",
     "text": [
      "\n",
      "[notice] A new release of pip is available: 23.0.1 -> 23.1.1\n",
      "[notice] To update, run: python.exe -m pip install --upgrade pip\n"
     ]
    }
   ],
   "source": [
    "# ! pip install pandas_market_calendars"
   ]
  },
  {
   "cell_type": "code",
   "execution_count": 83,
   "id": "c98b0ab8-ae4f-41fa-a9bd-ff0e70b2f0f7",
   "metadata": {
    "tags": []
   },
   "outputs": [],
   "source": [
    "from datetime import time\n",
    "import pandas as pd\n",
    "import pandas_market_calendars as mcal"
   ]
  },
  {
   "cell_type": "code",
   "execution_count": 84,
   "id": "3386713b-f1d9-4811-9f76-89823dfa3318",
   "metadata": {
    "tags": []
   },
   "outputs": [
    {
     "name": "stdout",
     "output_type": "stream",
     "text": [
      "True\n",
      "False\n"
     ]
    },
    {
     "data": {
      "text/html": [
       "<div>\n",
       "<style scoped>\n",
       "    .dataframe tbody tr th:only-of-type {\n",
       "        vertical-align: middle;\n",
       "    }\n",
       "\n",
       "    .dataframe tbody tr th {\n",
       "        vertical-align: top;\n",
       "    }\n",
       "\n",
       "    .dataframe thead th {\n",
       "        text-align: right;\n",
       "    }\n",
       "</style>\n",
       "<table border=\"1\" class=\"dataframe\">\n",
       "  <thead>\n",
       "    <tr style=\"text-align: right;\">\n",
       "      <th></th>\n",
       "      <th>market_open</th>\n",
       "      <th>market_close</th>\n",
       "    </tr>\n",
       "  </thead>\n",
       "  <tbody>\n",
       "    <tr>\n",
       "      <th>2022-02-22</th>\n",
       "      <td>2022-02-22 00:00:00+00:00</td>\n",
       "      <td>2022-02-22 06:30:00+00:00</td>\n",
       "    </tr>\n",
       "    <tr>\n",
       "      <th>2022-02-23</th>\n",
       "      <td>2022-02-23 00:00:00+00:00</td>\n",
       "      <td>2022-02-23 06:30:00+00:00</td>\n",
       "    </tr>\n",
       "    <tr>\n",
       "      <th>2022-02-24</th>\n",
       "      <td>2022-02-24 00:00:00+00:00</td>\n",
       "      <td>2022-02-24 06:30:00+00:00</td>\n",
       "    </tr>\n",
       "  </tbody>\n",
       "</table>\n",
       "</div>"
      ],
      "text/plain": [
       "                         market_open              market_close\n",
       "2022-02-22 2022-02-22 00:00:00+00:00 2022-02-22 06:30:00+00:00\n",
       "2022-02-23 2022-02-23 00:00:00+00:00 2022-02-23 06:30:00+00:00\n",
       "2022-02-24 2022-02-24 00:00:00+00:00 2022-02-24 06:30:00+00:00"
      ]
     },
     "execution_count": 84,
     "metadata": {},
     "output_type": "execute_result"
    }
   ],
   "source": [
    "xkrx = mcal.get_calendar('XKRX')\n",
    "xkrx.discontinued_market_times\n",
    "print(xkrx.has_discontinued)\n",
    "xkrx.remove_time(\"break_start\")\n",
    "xkrx.remove_time(\"break_end\")\n",
    "print(xkrx.has_discontinued)\n",
    "cal_df = xkrx.schedule(\"2022-02-22\", \"2022-02-24\")\n",
    "cal_df.head()"
   ]
  },
  {
   "cell_type": "markdown",
   "id": "fff7b5d5-e67f-40f0-adfd-ae3080bc3075",
   "metadata": {
    "tags": []
   },
   "source": [
    "## exchange_calendars\n",
    "* ref : https://github.com/gerrymanoim/exchange_calendars"
   ]
  },
  {
   "cell_type": "code",
   "execution_count": null,
   "id": "608d1d77-ac59-4276-aa6b-e4e6bc596bf7",
   "metadata": {},
   "outputs": [],
   "source": [
    "# ! pip install exchange_calendars"
   ]
  },
  {
   "cell_type": "code",
   "execution_count": 85,
   "id": "1eb76d73-3900-4231-9f1d-a1ff2fc6af6e",
   "metadata": {
    "tags": []
   },
   "outputs": [
    {
     "name": "stdout",
     "output_type": "stream",
     "text": [
      "['24/5', '24/7', 'AIXK', 'ASEX', 'BVMF', 'CMES', 'IEPA', 'XAMS', 'XASX', 'XBKK', 'XBOG', 'XBOM', 'XBRU', 'XBSE', 'XBUD', 'XBUE', 'XCBF', 'XCSE', 'XDUB', 'XETR', 'XFRA', 'XHEL', 'XHKG', 'XICE', 'XIDX', 'XIST', 'XJSE', 'XKAR', 'XKLS', 'XKRX', 'XLIM', 'XLIS', 'XLON', 'XMAD', 'XMEX', 'XMIL', 'XMOS', 'XNYS', 'XNZE', 'XOSL', 'XPAR', 'XPHS', 'XPRA', 'XSES', 'XSGO', 'XSHG', 'XSTO', 'XSWX', 'XTAE', 'XTAI', 'XTKS', 'XTSE', 'XWAR', 'XWBO', 'us_futures']\n",
      "False\n",
      "True\n"
     ]
    },
    {
     "data": {
      "text/html": [
       "<div>\n",
       "<style scoped>\n",
       "    .dataframe tbody tr th:only-of-type {\n",
       "        vertical-align: middle;\n",
       "    }\n",
       "\n",
       "    .dataframe tbody tr th {\n",
       "        vertical-align: top;\n",
       "    }\n",
       "\n",
       "    .dataframe thead th {\n",
       "        text-align: right;\n",
       "    }\n",
       "</style>\n",
       "<table border=\"1\" class=\"dataframe\">\n",
       "  <thead>\n",
       "    <tr style=\"text-align: right;\">\n",
       "      <th></th>\n",
       "      <th>open</th>\n",
       "      <th>break_start</th>\n",
       "      <th>break_end</th>\n",
       "      <th>close</th>\n",
       "    </tr>\n",
       "  </thead>\n",
       "  <tbody>\n",
       "    <tr>\n",
       "      <th>2022-02-23</th>\n",
       "      <td>2022-02-23 00:00:00+00:00</td>\n",
       "      <td>NaT</td>\n",
       "      <td>NaT</td>\n",
       "      <td>2022-02-23 06:30:00+00:00</td>\n",
       "    </tr>\n",
       "    <tr>\n",
       "      <th>2022-02-24</th>\n",
       "      <td>2022-02-24 00:00:00+00:00</td>\n",
       "      <td>NaT</td>\n",
       "      <td>NaT</td>\n",
       "      <td>2022-02-24 06:30:00+00:00</td>\n",
       "    </tr>\n",
       "    <tr>\n",
       "      <th>2022-02-25</th>\n",
       "      <td>2022-02-25 00:00:00+00:00</td>\n",
       "      <td>NaT</td>\n",
       "      <td>NaT</td>\n",
       "      <td>2022-02-25 06:30:00+00:00</td>\n",
       "    </tr>\n",
       "  </tbody>\n",
       "</table>\n",
       "</div>"
      ],
      "text/plain": [
       "                                open break_start break_end  \\\n",
       "2022-02-23 2022-02-23 00:00:00+00:00         NaT       NaT   \n",
       "2022-02-24 2022-02-24 00:00:00+00:00         NaT       NaT   \n",
       "2022-02-25 2022-02-25 00:00:00+00:00         NaT       NaT   \n",
       "\n",
       "                               close  \n",
       "2022-02-23 2022-02-23 06:30:00+00:00  \n",
       "2022-02-24 2022-02-24 06:30:00+00:00  \n",
       "2022-02-25 2022-02-25 06:30:00+00:00  "
      ]
     },
     "execution_count": 85,
     "metadata": {},
     "output_type": "execute_result"
    }
   ],
   "source": [
    "import exchange_calendars as xcals \n",
    "import datetime\n",
    "import pandas as pd\n",
    "print( xcals.get_calendar_names(include_aliases=False))\n",
    "\n",
    "krx = xcals.get_calendar(\"XKRX\") \n",
    "print(krx.is_session(\"2022-02-20\"))   #일료일\n",
    "print(krx.is_session(datetime.date.today().strftime(\"%Y-%m-%d\"))) #오늘   개장여부\n",
    "\n",
    "cal_df = krx.schedule.loc[\"2022-02-23\":\"2022-02-25\"]\n",
    "cal_df.head()\n"
   ]
  },
  {
   "cell_type": "code",
   "execution_count": 38,
   "id": "f199e4c3-efcd-47cb-a298-bd235d7dd6b1",
   "metadata": {
    "tags": []
   },
   "outputs": [
    {
     "data": {
      "text/plain": [
       "DatetimeIndex(['2022-01-03', '2022-01-04', '2022-01-05', '2022-01-06',\n",
       "               '2022-01-07', '2022-01-10'],\n",
       "              dtype='datetime64[ns]', freq='C')"
      ]
     },
     "execution_count": 38,
     "metadata": {},
     "output_type": "execute_result"
    }
   ],
   "source": [
    "cal_df = krx.sessions_in_range(\"2022-01-01\", \"2022-01-10\")\n",
    "cal_df"
   ]
  },
  {
   "cell_type": "code",
   "execution_count": 39,
   "id": "84963400-3fc3-4a70-9164-b088267fd688",
   "metadata": {
    "tags": []
   },
   "outputs": [
    {
     "name": "stdout",
     "output_type": "stream",
     "text": [
      "이전개장일 2022-02-18 00:00:00\n",
      "다음개장일 2022-02-22 00:00:00\n"
     ]
    }
   ],
   "source": [
    "print(\"이전개장일\", krx.previous_session(\"2022-02-21\")) #월요일\n",
    "print(\"다음개장일\", krx.next_session(\"2022-02-21\"))     #"
   ]
  },
  {
   "cell_type": "code",
   "execution_count": 96,
   "id": "5f04a018-04ca-4e31-8d1b-c213b6d33262",
   "metadata": {
    "tags": []
   },
   "outputs": [
    {
     "name": "stdout",
     "output_type": "stream",
     "text": [
      "        January 2022\n",
      " Su  Mo  Tu  We  Th  Fr  Sa\n",
      "                        [ 1]\n",
      "[ 2]  3   4   5   6   7 [ 8]\n",
      "[ 9] 10  11  12  13  14 [15]\n",
      "[16] 17  18  19  20  21 [22]\n",
      "[23] 24  25  26  27  28 [29]\n",
      "[30][31]\n",
      "\n"
     ]
    },
    {
     "name": "stderr",
     "output_type": "stream",
     "text": [
      "C:\\AI\\pythonProject\\venv\\lib\\site-packages\\exchange_calendars\\ecal.py:44: FutureWarning: Argument `closed` is deprecated in favor of `inclusive`.\n",
      "  days = pd.date_range(start, end, closed=\"left\")\n"
     ]
    }
   ],
   "source": [
    "! ecal XKRX 1 2022"
   ]
  },
  {
   "cell_type": "code",
   "execution_count": 97,
   "id": "6909396f-addd-42ff-8510-a1f09f96a2b0",
   "metadata": {
    "tags": []
   },
   "outputs": [
    {
     "name": "stdout",
     "output_type": "stream",
     "text": [
      "                                          2022\n",
      "          January                        February                        March\n",
      " Su  Mo  Tu  We  Th  Fr  Sa     Su  Mo  Tu  We  Th  Fr  Sa     Su  Mo  Tu  We  Th  Fr  Sa\n",
      "                        [ 1]           [ 1][ 2]  3   4 [ 5]           [ 1]  2   3   4 [ 5]\n",
      "[ 2]  3   4   5   6   7 [ 8]   [ 6]  7   8   9  10  11 [12]   [ 6]  7   8 [ 9] 10  11 [12]\n",
      "[ 9] 10  11  12  13  14 [15]   [13] 14  15  16  17  18 [19]   [13] 14  15  16  17  18 [19]\n",
      "[16] 17  18  19  20  21 [22]   [20] 21  22  23  24  25 [26]   [20] 21  22  23  24  25 [26]\n",
      "[23] 24  25  26  27  28 [29]   [27] 28                        [27] 28  29  30  31\n",
      "[30][31]\n",
      "\n",
      "           April                           May                            June\n",
      " Su  Mo  Tu  We  Th  Fr  Sa     Su  Mo  Tu  We  Th  Fr  Sa     Su  Mo  Tu  We  Th  Fr  Sa\n",
      "                      1 [ 2]                                              [ 1]  2   3 [ 4]\n",
      "[ 3]  4   5   6   7   8 [ 9]   [ 1]  2   3   4 [ 5]  6 [ 7]   [ 5][ 6]  7   8   9  10 [11]\n",
      "[10] 11  12  13  14  15 [16]   [ 8]  9  10  11  12  13 [14]   [12] 13  14  15  16  17 [18]\n",
      "[17] 18  19  20  21  22 [23]   [15] 16  17  18  19  20 [21]   [19] 20  21  22  23  24 [25]\n",
      "[24] 25  26  27  28  29 [30]   [22] 23  24  25  26  27 [28]   [26] 27  28  29  30\n",
      "                               [29] 30  31\n",
      "\n",
      "            July                          August                       September\n",
      " Su  Mo  Tu  We  Th  Fr  Sa     Su  Mo  Tu  We  Th  Fr  Sa     Su  Mo  Tu  We  Th  Fr  Sa\n",
      "                      1 [ 2]         1   2   3   4   5 [ 6]                     1   2 [ 3]\n",
      "[ 3]  4   5   6   7   8 [ 9]   [ 7]  8   9  10  11  12 [13]   [ 4]  5   6   7   8 [ 9][10]\n",
      "[10] 11  12  13  14  15 [16]   [14][15] 16  17  18  19 [20]   [11][12] 13  14  15  16 [17]\n",
      "[17] 18  19  20  21  22 [23]   [21] 22  23  24  25  26 [27]   [18] 19  20  21  22  23 [24]\n",
      "[24] 25  26  27  28  29 [30]   [28] 29  30  31                [25] 26  27  28  29  30\n",
      "[31]\n",
      "\n",
      "          October                        November                       December\n",
      " Su  Mo  Tu  We  Th  Fr  Sa     Su  Mo  Tu  We  Th  Fr  Sa     Su  Mo  Tu  We  Th  Fr  Sa\n",
      "                        [ 1]             1   2   3   4 [ 5]                     1   2 [ 3]\n",
      "[ 2][ 3]  4   5   6   7 [ 8]   [ 6]  7   8   9  10  11 [12]   [ 4]  5   6   7   8   9 [10]\n",
      "[ 9][10] 11  12  13  14 [15]   [13] 14  15  16  17  18 [19]   [11] 12  13  14  15  16 [17]\n",
      "[16] 17  18  19  20  21 [22]   [20] 21  22  23  24  25 [26]   [18] 19  20  21  22  23 [24]\n",
      "[23] 24  25  26  27  28 [29]   [27] 28  29  30                [25] 26  27  28  29 [30][31]\n",
      "[30] 31\n"
     ]
    },
    {
     "name": "stderr",
     "output_type": "stream",
     "text": [
      "C:\\AI\\pythonProject\\venv\\lib\\site-packages\\exchange_calendars\\ecal.py:44: FutureWarning: Argument `closed` is deprecated in favor of `inclusive`.\n",
      "  days = pd.date_range(start, end, closed=\"left\")\n"
     ]
    }
   ],
   "source": [
    "! ecal XKRX 2022"
   ]
  },
  {
   "cell_type": "markdown",
   "id": "f93e2226-c2d1-4b7e-8b30-4975837aad2f",
   "metadata": {},
   "source": [
    "## 번외 finterstellar\n",
    "- ref : https://github.com/finterstellar/quant_machine\n",
    "- backtesting\n",
    "- chart"
   ]
  },
  {
   "cell_type": "code",
   "execution_count": 88,
   "id": "5aaa659b-05f7-4ee7-901e-696e4ff411e7",
   "metadata": {
    "tags": []
   },
   "outputs": [
    {
     "name": "stdout",
     "output_type": "stream",
     "text": [
      "Requirement already satisfied: finterstellar in c:\\ai\\pythonproject\\venv\\lib\\site-packages (0.2.16)\n",
      "Requirement already satisfied: requests>=2.23.0 in c:\\ai\\pythonproject\\venv\\lib\\site-packages (from finterstellar) (2.28.2)\n",
      "Requirement already satisfied: pandas>=1.1.4 in c:\\ai\\pythonproject\\venv\\lib\\site-packages (from finterstellar) (1.5.3)\n",
      "Requirement already satisfied: lxml>=4.2.6 in c:\\ai\\pythonproject\\venv\\lib\\site-packages (from finterstellar) (4.9.2)\n",
      "Requirement already satisfied: numpy>=1.19.3 in c:\\ai\\pythonproject\\venv\\lib\\site-packages (from finterstellar) (1.24.3)\n",
      "Requirement already satisfied: python-dateutil>=2.8.1 in c:\\ai\\pythonproject\\venv\\lib\\site-packages (from pandas>=1.1.4->finterstellar) (2.8.2)\n",
      "Requirement already satisfied: pytz>=2020.1 in c:\\ai\\pythonproject\\venv\\lib\\site-packages (from pandas>=1.1.4->finterstellar) (2022.7.1)\n",
      "Requirement already satisfied: certifi>=2017.4.17 in c:\\ai\\pythonproject\\venv\\lib\\site-packages (from requests>=2.23.0->finterstellar) (2022.12.7)\n",
      "Requirement already satisfied: urllib3<1.27,>=1.21.1 in c:\\ai\\pythonproject\\venv\\lib\\site-packages (from requests>=2.23.0->finterstellar) (1.26.14)\n",
      "Requirement already satisfied: charset-normalizer<4,>=2 in c:\\ai\\pythonproject\\venv\\lib\\site-packages (from requests>=2.23.0->finterstellar) (3.0.1)\n",
      "Requirement already satisfied: idna<4,>=2.5 in c:\\ai\\pythonproject\\venv\\lib\\site-packages (from requests>=2.23.0->finterstellar) (3.4)\n",
      "Requirement already satisfied: six>=1.5 in c:\\ai\\pythonproject\\venv\\lib\\site-packages (from python-dateutil>=2.8.1->pandas>=1.1.4->finterstellar) (1.16.0)\n"
     ]
    },
    {
     "name": "stderr",
     "output_type": "stream",
     "text": [
      "\n",
      "[notice] A new release of pip is available: 23.0.1 -> 23.1.1\n",
      "[notice] To update, run: python.exe -m pip install --upgrade pip\n"
     ]
    }
   ],
   "source": [
    "# ! pip install finterstellar"
   ]
  },
  {
   "cell_type": "code",
   "execution_count": 89,
   "id": "896f1449-549a-4070-a1b3-8e54fc974c61",
   "metadata": {
    "tags": []
   },
   "outputs": [
    {
     "data": {
      "text/html": [
       "<div>\n",
       "<style scoped>\n",
       "    .dataframe tbody tr th:only-of-type {\n",
       "        vertical-align: middle;\n",
       "    }\n",
       "\n",
       "    .dataframe tbody tr th {\n",
       "        vertical-align: top;\n",
       "    }\n",
       "\n",
       "    .dataframe thead th {\n",
       "        text-align: right;\n",
       "    }\n",
       "</style>\n",
       "<table border=\"1\" class=\"dataframe\">\n",
       "  <thead>\n",
       "    <tr style=\"text-align: right;\">\n",
       "      <th></th>\n",
       "      <th>AAPL</th>\n",
       "    </tr>\n",
       "  </thead>\n",
       "  <tbody>\n",
       "    <tr>\n",
       "      <th>2020-01-02</th>\n",
       "      <td>75.09</td>\n",
       "    </tr>\n",
       "    <tr>\n",
       "      <th>2020-01-03</th>\n",
       "      <td>74.36</td>\n",
       "    </tr>\n",
       "    <tr>\n",
       "      <th>2020-01-06</th>\n",
       "      <td>74.95</td>\n",
       "    </tr>\n",
       "    <tr>\n",
       "      <th>2020-01-07</th>\n",
       "      <td>74.60</td>\n",
       "    </tr>\n",
       "    <tr>\n",
       "      <th>2020-01-08</th>\n",
       "      <td>75.80</td>\n",
       "    </tr>\n",
       "    <tr>\n",
       "      <th>...</th>\n",
       "      <td>...</td>\n",
       "    </tr>\n",
       "    <tr>\n",
       "      <th>2020-12-24</th>\n",
       "      <td>131.97</td>\n",
       "    </tr>\n",
       "    <tr>\n",
       "      <th>2020-12-28</th>\n",
       "      <td>136.69</td>\n",
       "    </tr>\n",
       "    <tr>\n",
       "      <th>2020-12-29</th>\n",
       "      <td>134.87</td>\n",
       "    </tr>\n",
       "    <tr>\n",
       "      <th>2020-12-30</th>\n",
       "      <td>133.72</td>\n",
       "    </tr>\n",
       "    <tr>\n",
       "      <th>2020-12-31</th>\n",
       "      <td>132.69</td>\n",
       "    </tr>\n",
       "  </tbody>\n",
       "</table>\n",
       "<p>253 rows × 1 columns</p>\n",
       "</div>"
      ],
      "text/plain": [
       "             AAPL\n",
       "2020-01-02  75.09\n",
       "2020-01-03  74.36\n",
       "2020-01-06  74.95\n",
       "2020-01-07  74.60\n",
       "2020-01-08  75.80\n",
       "...           ...\n",
       "2020-12-24 131.97\n",
       "2020-12-28 136.69\n",
       "2020-12-29 134.87\n",
       "2020-12-30 133.72\n",
       "2020-12-31 132.69\n",
       "\n",
       "[253 rows x 1 columns]"
      ]
     },
     "execution_count": 89,
     "metadata": {},
     "output_type": "execute_result"
    }
   ],
   "source": [
    "import finterstellar as fs\n",
    "df = fs.get_price('AAPL', start_date='2020-01-01', end_date='2020-12-31')\n",
    "df"
   ]
  },
  {
   "cell_type": "code",
   "execution_count": 95,
   "id": "812163dc-fffa-420e-9810-5fbf763a2a75",
   "metadata": {
    "tags": []
   },
   "outputs": [
    {
     "data": {
      "image/png": "[encoded data removed]",
      "text/plain": [
       "<Figure size 1000x500 with 2 Axes>"
      ]
     },
     "metadata": {},
     "output_type": "display_data"
    }
   ],
   "source": [
    "fs.draw_chart(df, right='AAPL')"
   ]
  },
  {
   "cell_type": "code",
   "execution_count": null,
   "id": "3c3d461f-f066-461f-8238-1c1d9e0a90fc",
   "metadata": {},
   "outputs": [],
   "source": []
  },
  {
   "cell_type": "code",
   "execution_count": null,
   "id": "02183295-ba6f-4868-8578-955d4e028095",
   "metadata": {},
   "outputs": [],
   "source": []
  }
 ],
 "metadata": {
  "kernelspec": {
   "display_name": "Python 3 (ipykernel)",
   "language": "python",
   "name": "python3"
  },
  "language_info": {
   "codemirror_mode": {
    "name": "ipython",
    "version": 3
   },
   "file_extension": ".py",
   "mimetype": "text/x-python",
   "name": "python",
   "nbconvert_exporter": "python",
   "pygments_lexer": "ipython3",
   "version": "3.8.8"
  },
  "toc-autonumbering": true
 },
 "nbformat": 4,
 "nbformat_minor": 5
}
